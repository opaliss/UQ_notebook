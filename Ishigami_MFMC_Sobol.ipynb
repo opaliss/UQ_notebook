{
 "cells": [
  {
   "cell_type": "code",
   "execution_count": 1,
   "id": "74ff64d0",
   "metadata": {},
   "outputs": [],
   "source": [
    "import numpy as np \n",
    "import copy\n",
    "from statistics import correlation\n",
    "from Ishigami_functions import estimate_sobol, sobol_mc, generate_rvs\n",
    "\n",
    "import matplotlib.pyplot as plt\n",
    "import matplotlib\n",
    "font = {'family' : 'serif',\n",
    "        'size'   : 13}\n",
    "\n",
    "matplotlib.rc('font', **font)\n",
    "matplotlib.rc('xtick', labelsize=15) \n",
    "matplotlib.rc('ytick', labelsize=15) "
   ]
  },
  {
   "cell_type": "markdown",
   "id": "1ad40fd3",
   "metadata": {},
   "source": [
    "### Ishigami Function and Models\n",
    "$$f(Z) = \\sin(Z_{1}) + a\\sin^2 (Z_{2}) + b Z_{3}^{4} \\sin(Z_{1}), \\qquad Z_{i} \\sim U(-\\pi, \\pi). $$\n"
   ]
  },
  {
   "cell_type": "markdown",
   "id": "a35dca58",
   "metadata": {},
   "source": [
    "The ANOVA-HDMR unique decomposition of this function is $f(Z) = f_{0} + f_{1}(Z_{1}) + f_{2}(Z_{2}) + f_{13}(Z_{1}, Z_{3})$ with \n",
    "\n",
    "$$f_{0} = \\frac{a}{2},\\\\ \n",
    "f_{1}(Z_{1}) = \\left(1 + b \\frac{\\pi^4}{5}\\right) \\sin(Z_{1}),\\\\\n",
    "f_{2}(Z_{2}) = a \\sin^2(Z_{2}) - \\frac{a}{2},\\\\\n",
    "f_{1,3}(Z_{1}, Z_{3}) = b \\sin(Z_{1}) \\left(Z_{3}^4 - \\frac{\\pi^4}{5}\\right),\n",
    "$$\n",
    "such that \n",
    "$$\n",
    "\\int_{\\mathbb{R}} f_{u}(z_{u}) \\rho_{u}(z_{u}) \\mathrm{d} z_{u} = 0, \\qquad \\forall u \\in \\{1, 2, \\{1,3\\}\\}\n",
    "$$\n",
    "where $\\rho_{u}$ is the density of the random variable $Z$ with index $u$. The expectation of $f(Z)$ can be computed analytically, such that\n",
    "$$\n",
    "\\mathbb{E}[f(Z)] = \\mathbb{E}[f_{0} + f_{1}(Z_{1}) + f_{2}(Z_{2}) + f_{1,3}(Z_{1}, Z_{3})] = \\mathbb{E}[f_{0}] + \\mathbb{E}[f_{1}(Z_{1})] + \\mathbb{E}[f_{2}(Z_{2})] + \\mathbb{E}[f_{1,3}(Z_{1}, Z_{3})] = \\frac{a}{2}.\n",
    "$$\n",
    "Similarly, the variance of $f(Z)$ is\n",
    "$$\n",
    "\\text{Var}[f(Z)] = \\frac{1}{8\\pi^3} \\int_{-\\pi}^{\\pi}  \\int_{-\\pi}^{\\pi}   \\int_{-\\pi}^{\\pi} \\left(f(Z) - \\mathbb{E}[f(z)]\\right)^2 \\mathrm{d}z_{1} \\mathrm{d} z_{2} \\mathrm{d} z_{3} = \\frac{1}{2} + \\frac{a^2}{8} + \\frac{\\pi^4 b}{5} + \\frac{\\pi^8 b^2}{18}.\n",
    "$$\n",
    "The component variances are \n",
    "$$\n",
    "V_{1} = \\text{Var}[f_{1}(Z_{1})] = \\frac{1}{2\\pi}\\int_{-\\pi}^{\\pi} \\left(1 + b\\frac{\\pi^4}{5}\\right)^2 \\sin^2(z_{1}) \\mathrm{d}z_{1} = \\frac{1}{2}\\left( 1+ b \\frac{\\pi^4}{5}\\right)^2,\\\\\n",
    "V_{2} = \\text{Var}[f_{2}(Z_{2})] = \\frac{1}{2\\pi}  \\int_{-\\pi}^{\\pi} a^2 \\left( \\sin^2(z_{2}) - \\frac{1}{2}\\right)^2 \\mathrm{d} z_{2} = \\frac{a^2}{8},\\\\\n",
    "V_{1,3} = \\text{Var}[f_{1,3}(Z_{1}, Z_{3})] = \\frac{1}{4\\pi^2}\\int_{-\\pi}^{\\pi} \\int_{-\\pi}^{\\pi} b^2 \\sin^2(z_{1}) \\left(z_{3}^4 - \\frac{\\pi^4}{5}\\right)^2 \\mathrm{d}z_{1} \\mathrm{d}z_{3} =  \\pi^8 b^2 \\left( \\frac{1}{18} - \\frac{1}{50}\\right).\n",
    "$$\n"
   ]
  },
  {
   "cell_type": "markdown",
   "id": "a60c629f",
   "metadata": {},
   "source": [
    "### References\n",
    "[1] E. Qian, B. Peherstorfer, D. O’Malley, V. V. Vesselinov, and K. Willcox. Multifidelity monte carlo estimation of variance and sensitivity indices. SIAM/ASA Journal on Uncertainty Quantification, 6(2):683–706, 2018"
   ]
  },
  {
   "cell_type": "code",
   "execution_count": 2,
   "id": "fa596ca5",
   "metadata": {},
   "outputs": [],
   "source": [
    "def f_fun(z1, z2, z3, a=5, b=0.1):\n",
    "    return np.sin(z1) + a * (np.sin(z2)**2) + b* np.sin(z1) * (z3**4)\n",
    "\n",
    "def V1_analytic(b):\n",
    "    return 0.5 * (1 + 1/5 * b * np.pi**4)**2\n",
    "\n",
    "def V2_analytic(a):\n",
    "    return (a**2) / 8 \n",
    "\n",
    "def V13_analytic(b):\n",
    "    return np.pi**8 * b**2 * (1/18 - 1/50)\n",
    "\n",
    "def Vt_analytic(a, b):\n",
    "    return 0.5 + 1/8 * a**2 + 1/5 * np.pi**4 * b + 1/18 * b**2 * np.pi**8 "
   ]
  },
  {
   "cell_type": "code",
   "execution_count": 3,
   "id": "eaad469c",
   "metadata": {},
   "outputs": [
    {
     "name": "stdout",
     "output_type": "stream",
     "text": [
      "S1 =  0.40074256833459065\n",
      "S2 =  0.28816217057600235\n",
      "S13 =  0.3110952610894071\n"
     ]
    }
   ],
   "source": [
    "# set up parameters (deterministic)\n",
    "a, b = 5, 0.1\n",
    "\n",
    "# print Sobol indices\n",
    "print(\"S1 = \", V1_analytic(b)/ Vt_analytic(a, b))\n",
    "print(\"S2 = \", V2_analytic(a)/ Vt_analytic(a, b))\n",
    "print(\"S13 = \", V13_analytic(b)/ Vt_analytic(a, b))"
   ]
  },
  {
   "cell_type": "markdown",
   "id": "7b323344",
   "metadata": {},
   "source": [
    "The above agrees with the results presented in [1]. "
   ]
  },
  {
   "cell_type": "markdown",
   "id": "254177c8",
   "metadata": {},
   "source": [
    "### Monte-Carlo computation of Sobol indices using HDMR"
   ]
  },
  {
   "cell_type": "markdown",
   "id": "fb68479b",
   "metadata": {},
   "source": [
    "### Step 1: \n",
    "Draw $2N$ samples of $Z_{i} \\sim \\rho_{i}$ and store in matrices $A$ and $B$."
   ]
  },
  {
   "cell_type": "code",
   "execution_count": 4,
   "id": "73953f8e",
   "metadata": {},
   "outputs": [],
   "source": [
    "N = 10**5\n",
    "\n",
    "z1_samples = np.random.uniform(low=-np.pi, high=np.pi, size=2*N)\n",
    "z2_samples = np.random.uniform(low=-np.pi, high=np.pi, size=2*N)\n",
    "z3_samples = np.random.uniform(low=-np.pi, high=np.pi, size=2*N)"
   ]
  },
  {
   "cell_type": "code",
   "execution_count": 5,
   "id": "8a911430",
   "metadata": {},
   "outputs": [],
   "source": [
    "A, B = np.zeros((N, 3)), np.zeros((N, 3))\n",
    "A[:, 0] = z1_samples[:N]\n",
    "A[:, 1] = z2_samples[:N]\n",
    "A[:, 2] = z3_samples[:N]\n",
    "\n",
    "B[:, 0] = z1_samples[N:]\n",
    "B[:, 1] = z2_samples[N:]\n",
    "B[:, 2] = z3_samples[N:]"
   ]
  },
  {
   "cell_type": "code",
   "execution_count": 6,
   "id": "cf16e9ed",
   "metadata": {},
   "outputs": [
    {
     "data": {
      "image/png": "[encoded data removed]",
      "text/plain": [
       "<Figure size 1000x300 with 3 Axes>"
      ]
     },
     "metadata": {},
     "output_type": "display_data"
    }
   ],
   "source": [
    "fig, ax = plt.subplots(ncols=3, figsize=(10, 3))\n",
    "ax[0].scatter(z1_samples[::1000], z2_samples[::1000], s=1)\n",
    "ax[0].set_xlabel(\"$Z_{1}$\")\n",
    "ax[0].set_ylabel(\"$Z_{2}$\")\n",
    "\n",
    "ax[1].scatter(z2_samples[::1000], z3_samples[::1000], s=1)\n",
    "ax[1].set_xlabel(\"$Z_{2}$\")\n",
    "ax[1].set_ylabel(\"$Z_{3}$\")\n",
    "\n",
    "ax[2].scatter(z1_samples[::1000], z3_samples[::1000], s=1)\n",
    "ax[2].set_xlabel(\"$Z_{1}$\")\n",
    "ax[2].set_ylabel(\"$Z_{3}$\")\n",
    "plt.tight_layout()"
   ]
  },
  {
   "cell_type": "markdown",
   "id": "972cc7ed",
   "metadata": {},
   "source": [
    "### Step 2:\n",
    "Define the new matrix $C^{(i)}$ which is all of $B$ except the $i$th column is replaced by the $i$th column of $A$ so that \n"
   ]
  },
  {
   "cell_type": "code",
   "execution_count": 7,
   "id": "be0cfa14",
   "metadata": {},
   "outputs": [],
   "source": [
    "C1, C2, C3 = copy.deepcopy(B), copy.deepcopy(B), copy.deepcopy(B)"
   ]
  },
  {
   "cell_type": "code",
   "execution_count": 8,
   "id": "410c188d",
   "metadata": {},
   "outputs": [],
   "source": [
    "C1[:, 0] = A[:, 0]\n",
    "C2[:, 1] = A[:, 1]\n",
    "C3[:, 2] = A[:, 2]"
   ]
  },
  {
   "cell_type": "markdown",
   "id": "16188fba",
   "metadata": {},
   "source": [
    "### Step 3:\n",
    "Use the model $Y = f(Z_{1}, Z_{2}, Z_{3})$ to compute the output $Y$ from each of the matricies, i.e. "
   ]
  },
  {
   "cell_type": "code",
   "execution_count": 9,
   "id": "bca1f96f",
   "metadata": {},
   "outputs": [],
   "source": [
    "YA = f_fun(z1=A[:, 0], z2=A[:, 1], z3=A[:, 2], a=a, b=b) \n",
    "YB = f_fun(z1=B[:, 0], z2=B[:, 1], z3=B[:, 2], a=a, b=b) \n",
    "YC1 = f_fun(z1=C1[:, 0], z2=C1[:, 1], z3=C1[:, 2], a=a, b=b) \n",
    "YC2 = f_fun(z1=C2[:, 0], z2=C2[:, 1], z3=C2[:, 2], a=a, b=b) \n",
    "YC3 = f_fun(z1=C3[:, 0], z2=C3[:, 1], z3=C3[:, 2], a=a, b=b) "
   ]
  },
  {
   "cell_type": "markdown",
   "id": "5030d63c",
   "metadata": {},
   "source": [
    "### Step 4:\n",
    "The main effect and total effect sensitivity are \n",
    "$$\n",
    "S_{i} = \\frac{\\frac{1}{N} y_{A}^{\\top}y_{C^{(i)}} - f_{0}^2}{\\frac{1}{N} y_{A}^{\\top} y_{A} - f_{0}^2}\n",
    "$$\n",
    "and the total effect is \n",
    "$$\n",
    "T_{i} = 1 - \\frac{\\frac{1}{N} y_{B}^{\\top}y_{C^{(i)}} - f_{0}^2}{\\frac{1}{N} y_{A}^{\\top} y_{A} - f_{0}^2}\n",
    "$$\n",
    "with \n",
    "$f_{0} = \\mathbb{E}[Y] \\approx \\frac{1}{N} \\sum_{j=1}^{N} y_{A}^{(j)}$. Variants on the Sobol’ estimator exist, including the Saltelli estimator, Owen estimator, and Janon estimator. "
   ]
  },
  {
   "cell_type": "code",
   "execution_count": 10,
   "id": "0f3ada18",
   "metadata": {},
   "outputs": [],
   "source": [
    "S, T = estimate_sobol(YA, YB, YC1, YC2, YC3)"
   ]
  },
  {
   "cell_type": "code",
   "execution_count": 11,
   "id": "a4615a26",
   "metadata": {},
   "outputs": [
    {
     "name": "stdout",
     "output_type": "stream",
     "text": [
      "MC estimate of S1 0.3991490306900274\n",
      "(True) S1 =  0.40074256833459065\n"
     ]
    }
   ],
   "source": [
    "print(\"MC estimate of S1\", S[0])\n",
    "print(\"(True) S1 = \", V1_analytic(b=b)/ Vt_analytic(a=a, b=b))"
   ]
  },
  {
   "cell_type": "code",
   "execution_count": 12,
   "id": "8a704c1f",
   "metadata": {},
   "outputs": [
    {
     "name": "stdout",
     "output_type": "stream",
     "text": [
      "MC estimate of S2 =  0.2930032436883096\n",
      "(True) S2 =  0.28816217057600235\n"
     ]
    }
   ],
   "source": [
    "print(\"MC estimate of S2 = \", S[1])\n",
    "print(\"(True) S2 = \", V2_analytic(a=a)/ Vt_analytic(a=a, b=b))"
   ]
  },
  {
   "cell_type": "code",
   "execution_count": 13,
   "id": "2f236c00",
   "metadata": {},
   "outputs": [
    {
     "name": "stdout",
     "output_type": "stream",
     "text": [
      "MC estimate of S3 =  0.005252020108459034\n",
      "(True) S3 =  0\n"
     ]
    }
   ],
   "source": [
    "print(\"MC estimate of S3 = \", S[2])\n",
    "print(\"(True) S3 = \", 0)"
   ]
  },
  {
   "cell_type": "code",
   "execution_count": 14,
   "id": "d44212e2",
   "metadata": {},
   "outputs": [
    {
     "name": "stdout",
     "output_type": "stream",
     "text": [
      "MC estimate of S1 total 0.7099924067972059\n",
      "(True) S1 =  0.7118378294239978\n"
     ]
    }
   ],
   "source": [
    "print(\"MC estimate of S1 total\", T[0])\n",
    "print(\"(True) S1 = \", (V1_analytic(b=b) + V13_analytic(b=b))/ Vt_analytic(a=a, b=b))"
   ]
  },
  {
   "cell_type": "code",
   "execution_count": 15,
   "id": "1f13e790",
   "metadata": {},
   "outputs": [
    {
     "name": "stdout",
     "output_type": "stream",
     "text": [
      "MC estimate of S2 total 0.29609870132314764\n",
      "(True) S2 =  0.28816217057600235\n"
     ]
    }
   ],
   "source": [
    "print(\"MC estimate of S2 total\", T[1])\n",
    "print(\"(True) S2 = \", (V2_analytic(a=a))/ Vt_analytic(a=a, b=b))"
   ]
  },
  {
   "cell_type": "code",
   "execution_count": 16,
   "id": "7ae0be70",
   "metadata": {},
   "outputs": [
    {
     "name": "stdout",
     "output_type": "stream",
     "text": [
      "MC estimate of S3 total 0.3180068186849687\n",
      "(True) S3 =  0.3110952610894071\n"
     ]
    }
   ],
   "source": [
    "print(\"MC estimate of S3 total\", T[2])\n",
    "print(\"(True) S3 = \", (V13_analytic(b=b))/ Vt_analytic(a=a, b=b))"
   ]
  },
  {
   "cell_type": "markdown",
   "id": "3b4101b1",
   "metadata": {},
   "source": [
    "## Repeat the analysis to ensure convergence - \"law of large numbers\""
   ]
  },
  {
   "cell_type": "code",
   "execution_count": 17,
   "id": "656f5822",
   "metadata": {},
   "outputs": [],
   "source": [
    "N_vec = 10**np.arange(1, 9)"
   ]
  },
  {
   "cell_type": "code",
   "execution_count": 18,
   "id": "4d78b335",
   "metadata": {},
   "outputs": [],
   "source": [
    "S_res, S_tot_res = np.zeros((3, len(N_vec))), np.zeros((3, len(N_vec)))"
   ]
  },
  {
   "cell_type": "code",
   "execution_count": null,
   "id": "7c2ed3fc",
   "metadata": {},
   "outputs": [],
   "source": [
    "jj = 0\n",
    "for N in N_vec:\n",
    "    # step 1,2,3,4\n",
    "    S_res[:, jj], S_tot_res[:, jj] = estimate_sobol(*sobol_mc(*generate_rvs(N=int(N), d=3), f=f_fun))\n",
    "    # update jj index\n",
    "    jj +=1"
   ]
  },
  {
   "cell_type": "code",
   "execution_count": null,
   "id": "f2409aa3",
   "metadata": {},
   "outputs": [],
   "source": [
    "fig, ax = plt.subplots(ncols=2,nrows=3, sharex=True, figsize=(10, 7))\n",
    "ax[0, 0].plot(N_vec, S_res[0, :], \"-o\", c=\"r\", label=\"Monte-Carlo\")\n",
    "ax[1, 0].plot(N_vec, S_res[1, :], \"-o\", c=\"b\", label=\"Monte-Carlo\")\n",
    "ax[2, 0].plot(N_vec, S_res[2, :], \"-o\", c=\"g\", label=\"Monte-Carlo\")\n",
    "ax[0, 0].axhline(V1_analytic(b=b)/ Vt_analytic(a=a, b=b), c=\"k\", ls=\"--\", label=\"Analytic\")\n",
    "ax[1, 0].axhline(V2_analytic(a=a)/ Vt_analytic(a=a, b=b), c=\"k\", ls=\"--\", label=\"Analytic\")\n",
    "ax[2, 0].axhline(0, c=\"k\", ls=\"--\", label=\"Analytic\")\n",
    "\n",
    "ax[0, 0].set_xscale(\"log\")\n",
    "ax[1, 0].set_xscale(\"log\")\n",
    "ax[2, 0].set_xscale(\"log\")\n",
    "\n",
    "ax[0, 0].legend()\n",
    "ax[1, 0].legend()\n",
    "ax[2, 0].legend()\n",
    "\n",
    "ax[0, 0].set_title(\"$S_{1}$\")\n",
    "ax[1, 0].set_title(\"$S_{2}$\")\n",
    "ax[2, 0].set_title(\"$S_{3}$\")\n",
    "\n",
    "ax[0, 1].plot(N_vec, S_tot_res[0, :], \"-o\", c=\"r\", label=\"Monte-Carlo\")\n",
    "ax[1, 1].plot(N_vec, S_tot_res[1, :], \"-o\", c=\"b\", label=\"Monte-Carlo\")\n",
    "ax[2, 1].plot(N_vec, S_tot_res[2, :], \"-o\", c=\"g\", label=\"Monte-Carlo\")\n",
    "ax[0, 1].axhline((V1_analytic(b=b) + V13_analytic(b=b))/ Vt_analytic(a=a, b=b), c=\"k\", ls=\"--\", label=\"Analytic\")\n",
    "ax[1, 1].axhline(V2_analytic(a=a)/ Vt_analytic(a=a, b=b), c=\"k\", ls=\"--\", label=\"Analytic\")\n",
    "ax[2, 1].axhline((V13_analytic(b=b))/ Vt_analytic(a=a, b=b), c=\"k\", ls=\"--\", label=\"Analytic\")\n",
    "\n",
    "ax[0, 1].set_title(\"$T_{1}$\")\n",
    "ax[1, 1].set_title(\"$T_{2}$\")\n",
    "ax[2, 1].set_title(\"$T_{3}$\")\n",
    "\n",
    "ax[0, 1].set_xscale(\"log\")\n",
    "ax[1, 1].set_xscale(\"log\")\n",
    "ax[2, 1].set_xscale(\"log\")\n",
    "\n",
    "ax[0, 1].legend()\n",
    "ax[1, 1].legend()\n",
    "ax[2, 1].legend()\n",
    "\n",
    "ax[2,0].set_xlabel(\"N\")\n",
    "ax[2,1].set_xlabel(\"N\")\n",
    "\n",
    "plt.tight_layout()"
   ]
  },
  {
   "cell_type": "markdown",
   "id": "5995650b",
   "metadata": {},
   "source": [
    "### Multifidelity Monte-Carlo (MFMC) computation of Sobol indices using HDMR"
   ]
  },
  {
   "cell_type": "markdown",
   "id": "26119aeb",
   "metadata": {},
   "source": [
    "Lets assume $f^{(1)}, f^{(2)}, \\ldots, f^{(K)}$ models that satisfy $|\\rho_{1,1}| > \\ldots |\\rho_{1, K}|$ and have cost satisfying \n",
    "$$\n",
    "\\frac{w_{k-1}}{w_{k}} > \\frac{\\rho_{1, k-1}^{2} - \\rho_{1, k}^{2}}{\\rho_{1,k}^{2} - \\rho_{1,k+1}^2}\n",
    "$$\n",
    "for $k=2, \\ldots, K$, and the components of $\\mathbf{r}^{*} = [r_{1}*, \\ldots, r_{K}^{*}]^{\\top} $are given by \n",
    "$$\n",
    "r_{k}^{*} = \\sqrt{\n",
    "\\frac{w_{1}(\\rho_{1,k}^{2} - \\rho_{1, k+1}^{2})}{w_{k}(1-\\rho_{1,2}^2)}}\n",
    "$$\n",
    "then, given a maximum computational budget $p$, the assignments $\\alpha_{k}^{*} = \\frac{\\rho_{1,k} \\sigma_{1}}{\\sigma_{k}}$ and $m_{1}^{*} = \\frac{p}{\\mathbf{w}^{\\top} \\mathbf{r}^{*}}$ and $m_{k}^{*} = m^{*}_{1} r^{*}_{k}$ for $k = 2, \\ldots K$ minimize the mean-squared error of the multifidelity mean estimator. "
   ]
  },
  {
   "cell_type": "markdown",
   "id": "84159ada",
   "metadata": {},
   "source": [
    "Now, lets construct surrogates for the ishigami function, \n",
    "$$\n",
    "f^{(1)}(Z) = \\sin(Z_{1}) + a\\sin^2 (Z_{2}) + b Z_{3}^{4} \\sin(Z_{1}) \\\\\n",
    "f^{(2)}(Z) = \\sin(Z_{1}) + 0.95a\\sin^2 (Z_{2}) + b Z_{3}^{4} \\sin(Z_{1}) \\\\\n",
    "f^{(3)}(Z) = \\sin(Z_{1}) + 0.6a\\sin^2 (Z_{2}) + 9bZ_{3}^{2} \\sin(Z_{1})\\\\\n",
    "$$ "
   ]
  },
  {
   "cell_type": "markdown",
   "id": "0f8c69fb",
   "metadata": {},
   "source": [
    "For example, lets try to understand the PCC of the three models. "
   ]
  },
  {
   "cell_type": "code",
   "execution_count": null,
   "id": "7f9bfa13",
   "metadata": {},
   "outputs": [],
   "source": [
    "def f_fun2(z1, z2, z3, a=5, b=0.1):\n",
    "    return np.sin(z1) + 0.95 * a * (np.sin(z2)**2) + b * np.sin(z1) * (z3**4)\n",
    "\n",
    "def f_fun3(z1, z2, z3, a=5, b=0.1):\n",
    "    return np.sin(z1) + 0.6* a * np.sin(z2)**2 + 9 * b * np.sin(z1) * (z3**2)"
   ]
  },
  {
   "cell_type": "code",
   "execution_count": null,
   "id": "3f4f3ab9",
   "metadata": {},
   "outputs": [],
   "source": [
    "N = 10**5\n",
    "\n",
    "z1_samples = np.random.uniform(low=-np.pi, high=np.pi, size=N)\n",
    "z2_samples = np.random.uniform(low=-np.pi, high=np.pi, size=N)\n",
    "z3_samples = np.random.uniform(low=-np.pi, high=np.pi, size=N)"
   ]
  },
  {
   "cell_type": "code",
   "execution_count": null,
   "id": "ba9a12f2",
   "metadata": {},
   "outputs": [],
   "source": [
    "Y1_RES = f_fun1(z1=z1_samples, z2=z2_samples, z3=z3_samples)\n",
    "Y2_RES = f_fun2(z1=z1_samples, z2=z2_samples, z3=z3_samples)\n",
    "Y3_RES = f_fun3(z1=z1_samples, z2=z2_samples, z3=z3_samples)"
   ]
  },
  {
   "cell_type": "code",
   "execution_count": null,
   "id": "095291d0",
   "metadata": {},
   "outputs": [],
   "source": [
    "fig, ax = plt.subplots(ncols=2, figsize=(10, 3))\n",
    "ax[0].scatter(Y1_RES, Y2_RES)\n",
    "ax[1].scatter(Y1_RES, Y3_RES)\n",
    "ax[0].set_xlabel(\"$f^{(1)}(Z)$\")\n",
    "ax[0].set_ylabel(\"$f^{(2)}(Z)$\")\n",
    "ax[1].set_xlabel(\"$f^{(1)}(Z)$\")\n",
    "ax[1].set_ylabel(\"$f^{(3)}(Z)$\")\n",
    "\n",
    "ax[0].set_title(\"PCC = \" + str(round(correlation(Y1_RES, Y2_RES), 4)))\n",
    "ax[1].set_title(\"PCC = \" + str(round(correlation(Y1_RES, Y3_RES), 4)))\n",
    "\n",
    "\n",
    "plt.tight_layout()"
   ]
  },
  {
   "cell_type": "code",
   "execution_count": null,
   "id": "ca15d08c",
   "metadata": {},
   "outputs": [],
   "source": [
    "print(np.std(Y1_RES), np.std(Y2_RES), np.std(Y3_RES))\n",
    "print(np.mean(Y1_RES), np.mean(Y2_RES), np.mean(Y3_RES))"
   ]
  },
  {
   "cell_type": "markdown",
   "id": "886fd901",
   "metadata": {},
   "source": [
    "from the results above, we set $\\rho_{1, 1} = 1, \\rho_{1,2} = 0.9997, \\rho_{1,3} = 0.9465$, and $\\sigma_{1} = 3.30367, \\sigma_{2} = 3.2567, \\sigma_{3} = 3.5288$ ."
   ]
  },
  {
   "cell_type": "code",
   "execution_count": null,
   "id": "72a323fc",
   "metadata": {},
   "outputs": [],
   "source": [
    "w1, w2, w3 = 1, 0.05, 0.001\n",
    "rho1, rho2, rho3 = 1, correlation(Y1_RES, Y2_RES), correlation(Y1_RES, Y3_RES)\n",
    "sigma1, sigma2, sigma3= np.std(Y1_RES), np.std(Y2_RES), np.std(Y3_RES)\n",
    "\n",
    "r1= 1\n",
    "r2 = np.sqrt(w1*(rho2**2 - rho3**2)/(w2*(1 - rho2**2)))\n",
    "r3 = np.sqrt(w1*(rho3**2)/(w3*(1 - rho2**2)))\n",
    "\n",
    "r = np.array([r1, r2, r3])\n",
    "w = np.array([w1, w2, w3])\n",
    "\n",
    "d=3\n",
    "p = 200/(d+2)\n",
    "m1 = int(p/(w.T @ r))\n",
    "m2 = int(m1*r2)\n",
    "m3 = int(m1*r3)\n",
    "\n",
    "alpha2 = rho2* sigma1/sigma2\n",
    "alpha3 = rho3* sigma1/sigma3"
   ]
  },
  {
   "cell_type": "code",
   "execution_count": null,
   "id": "da5d3a4b",
   "metadata": {},
   "outputs": [],
   "source": [
    "print(\"m1 = \", m1)\n",
    "print(\"m2 = \", m2)\n",
    "print(\"m3 = \", m3)\n",
    "print(\"total m = \", m1 + m2 + m3)\n",
    "\n",
    "\n",
    "print(\"computational cost = \", m1*w1 + m2*w2 + m3*w3)\n",
    "print(\"paper computational cost = \", 7*w1 + 461*w2 + 9589*w3)\n",
    "print(\"computational budget\", p)\n",
    "\n",
    "\n",
    "print(\"alpha1 = \", 1)\n",
    "print(\"alpha2 = \", alpha2)\n",
    "print(\"alpha3 = \", alpha3)"
   ]
  },
  {
   "cell_type": "markdown",
   "id": "541ff723",
   "metadata": {},
   "source": [
    "The MFMC estimators of the Sobol indicies are \n",
    "$$\n",
    "\\hat{V}_{\\text{j, mf}} = \\hat{V}_{j, m_{1}}  + \\sum_{k=2}^{K} \\alpha_{k} \\left(\\hat{V}_{j, m_{k}}^{(k)} -  \\hat{V}_{j, m_{k-1}}^{(k)}\\right)\\\\\n",
    "\\hat{T}_{\\text{j, mf}} = \\hat{T}_{j, m_{1}}  + \\sum_{k=2}^{K} \\alpha_{k} \\left(\\hat{T}_{j, m_{k}}^{(k)} -  \\hat{T}_{j, m_{k-1}}^{(k)}\\right)\\\\\n",
    "\\hat{V}_{\\text{mf}} = \\hat{V}_{m_{1}}^{(1)} + \\sum_{k=2}^{K} \\alpha_{k} \\left( \\hat{V}_{m_{k}}^{(k)} -  \\hat{V}_{m_{k-1}}^{(k)}\\right)\n",
    "$$"
   ]
  },
  {
   "cell_type": "code",
   "execution_count": null,
   "id": "a8a35c7e",
   "metadata": {},
   "outputs": [],
   "source": [
    "replicate = 100"
   ]
  },
  {
   "cell_type": "code",
   "execution_count": null,
   "id": "1e48a318",
   "metadata": {},
   "outputs": [],
   "source": [
    "mf_sm, mf_st = np.zeros((d, replicate)), np.zeros((d, replicate))\n",
    "for jj in range(replicate):\n",
    "    A, B, C1, C2, C3, = generate_rvs(N=int(m3), d=d)\n",
    "    mf_sm_holder, mf_st_holder = estimate_sobol(*sobol_mc(A[:m1], B[:m1], C1[:m1], C2[:m1], C3[:m1], f=f_fun))\n",
    "\n",
    "    sm1, st1 = estimate_sobol(*sobol_mc(A[:m2], B[:m2], C1[:m2], C2[:m2], C3[:m2], f=f_fun2))\n",
    "    sm2, st2 = estimate_sobol(*sobol_mc(A[:m1], B[:m1], C1[:m1], C2[:m1], C3[:m1], f=f_fun2))\n",
    "    mf_sm_holder += alpha2 * (sm1 - sm2)\n",
    "    mf_st_holder += alpha2 * (st1 - st2)\n",
    "\n",
    "    sm1, st1 = estimate_sobol(*sobol_mc(A[:m3], B[:m3], C1[:m3], C2[:m3], C3[:m3], f=f_fun3))\n",
    "    sm2, st2 = estimate_sobol(*sobol_mc(A[:m2], B[:m2], C1[:m2], C2[:m2], C3[:m2], f=f_fun3))\n",
    "    mf_sm_holder += alpha3 * (sm1 - sm2)\n",
    "    mf_st_holder += alpha3 * (st1 - st2)\n",
    "\n",
    "    mf_sm[:, jj] = mf_sm_holder\n",
    "    mf_st[:, jj] = mf_st_holder"
   ]
  },
  {
   "cell_type": "code",
   "execution_count": null,
   "id": "9f7e1798",
   "metadata": {},
   "outputs": [],
   "source": [
    "mc_sm, mc_st = np.zeros((d, replicate)), np.zeros((d, replicate))\n",
    "for jj in range(replicate):\n",
    "    mc_sm[:, jj], mc_st[:, jj] = estimate_sobol(*sobol_mc(*generate_rvs(N=int(p), d=d), f=f_fun))"
   ]
  },
  {
   "cell_type": "code",
   "execution_count": null,
   "id": "2c3aa5c5",
   "metadata": {},
   "outputs": [],
   "source": [
    "fig, ax = plt.subplots(ncols=3, figsize=(10, 3))\n",
    "ax[0].set_xticklabels([\"$S^{MF}_{1}$\", \"$S^{MC}_{1}$\"])\n",
    "_ = ax[0].boxplot([mf_sm[0, :], mc_sm[0, :]], showfliers=False)\n",
    "\n",
    "ax[1].set_xticklabels([\"$S^{MF}_{2}$\", \"$S^{MC}_{2}$\"])\n",
    "_ = ax[1].boxplot([mf_sm[1, :], mc_sm[1, :]], showfliers=False)\n",
    "\n",
    "ax[2].set_xticklabels([\"$S^{MF}_{3}$\", \"$S^{MC}_{3}$\"])\n",
    "_ = ax[2].boxplot([mf_sm[2, :], mc_sm[2, :]], showfliers=False)\n",
    "\n",
    "ax[0].axhline(V1_analytic(b=b)/ Vt_analytic(a=a, b=b), c=\"k\", ls=\"--\", label=\"Analytic\")\n",
    "ax[1].axhline(V2_analytic(a=a)/ Vt_analytic(a=a, b=b), c=\"k\", ls=\"--\", label=\"Analytic\")\n",
    "ax[2].axhline(0, c=\"k\", ls=\"--\", label=\"Analytic\")\n",
    "\n",
    "plt.tight_layout()"
   ]
  },
  {
   "cell_type": "code",
   "execution_count": null,
   "id": "afee3aef",
   "metadata": {},
   "outputs": [],
   "source": [
    "fig, ax = plt.subplots(ncols=3, figsize=(10, 3))\n",
    "ax[0].set_xticklabels([\"$T^{MF}_{1}$\", \"$T^{MC}_{1}$\"])\n",
    "_ = ax[0].boxplot([mf_st[0, :], mc_st[0, :]], showfliers=False)\n",
    "\n",
    "ax[1].set_xticklabels([\"$T^{MF}_{2}$\", \"$T^{MC}_{2}$\"])\n",
    "_ = ax[1].boxplot([mf_st[1, :], mc_st[1, :]], showfliers=False)\n",
    "\n",
    "ax[2].set_xticklabels([\"$T^{MF}_{3}$\", \"$T^{MC}_{3}$\"])\n",
    "_ = ax[2].boxplot([mf_st[2, :], mc_st[2, :]], showfliers=False)\n",
    "\n",
    "ax[0].axhline((V1_analytic(b=b) + V13_analytic(b=b))/ Vt_analytic(a=a, b=b), c=\"k\", ls=\"--\", label=\"Analytic\")\n",
    "ax[1].axhline(V2_analytic(a=a)/ Vt_analytic(a=a, b=b), c=\"k\", ls=\"--\", label=\"Analytic\")\n",
    "ax[2].axhline((V13_analytic(b=b))/ Vt_analytic(a=a, b=b), c=\"k\", ls=\"--\", label=\"Analytic\")\n",
    "\n",
    "\n",
    "plt.tight_layout()"
   ]
  },
  {
   "cell_type": "code",
   "execution_count": null,
   "id": "a93c3920",
   "metadata": {},
   "outputs": [],
   "source": []
  },
  {
   "cell_type": "code",
   "execution_count": null,
   "id": "8f326cc9",
   "metadata": {},
   "outputs": [],
   "source": []
  }
 ],
 "metadata": {
  "kernelspec": {
   "display_name": "Python 3 (ipykernel)",
   "language": "python",
   "name": "python3"
  },
  "language_info": {
   "codemirror_mode": {
    "name": "ipython",
    "version": 3
   },
   "file_extension": ".py",
   "mimetype": "text/x-python",
   "name": "python",
   "nbconvert_exporter": "python",
   "pygments_lexer": "ipython3",
   "version": "3.10.4"
  }
 },
 "nbformat": 4,
 "nbformat_minor": 5
}