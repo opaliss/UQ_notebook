{
 "cells": [
  {
   "cell_type": "code",
   "execution_count": 1,
   "id": "ea5ce70c",
   "metadata": {},
   "outputs": [],
   "source": [
    "import numpy as np \n",
    "import copy\n",
    "import scipy.optimize as opt\n",
    "import emcee\n",
    "import corner"
   ]
  },
  {
   "cell_type": "code",
   "execution_count": 2,
   "id": "0bb2adc1",
   "metadata": {},
   "outputs": [],
   "source": [
    "import matplotlib.pyplot as plt\n",
    "import matplotlib\n",
    "font = {'family' : 'serif',\n",
    "        'size'   : 13}\n",
    "\n",
    "matplotlib.rc('font', **font)\n",
    "matplotlib.rc('xtick', labelsize=13) \n",
    "matplotlib.rc('ytick', labelsize=13) "
   ]
  },
  {
   "cell_type": "markdown",
   "id": "d0f67297",
   "metadata": {},
   "source": [
    "## Bayesian Inference and Markov Chain Monte Carlo for Seismology"
   ]
  },
  {
   "cell_type": "markdown",
   "id": "fca86474",
   "metadata": {},
   "source": [
    "In this problem, you will use Bayesian inference and Markov chain Monte Carlo (MCMC) to find the parameters of\n",
    "a model that is used in seismology. The model is given by \n",
    "$$\n",
    "v(x) = \\frac{v_{0}}{\\pi} \\arctan \\left(\\frac{x-x_{0}}{D}\\right)\n",
    "$$\n",
    "describes the velocity as a function of a spatial variable $x$ where $v_{0}$ is the fault slip rate, $D$ is the\n",
    "locking depth, $x_{0}$ is the fault location. You are given measurements of the velocity $v$ at several locations $x$. Thus, your data is $d = \\{d_{1},d_{2},...,d_{n}\\}$ where\n",
    "$d_{i} = [x_{i},v_{i}]$. You can download these from canvas (relevant file is *HW2Data.txt*). The first column\n",
    "contains the locations of the measurements (the $x_{j}$’s) and the second column lists the velocities\n",
    "(the $v_{j}$’s). There are a total of $n = 200$ measurements."
   ]
  },
  {
   "cell_type": "code",
   "execution_count": 3,
   "id": "7b83f0ea",
   "metadata": {},
   "outputs": [],
   "source": [
    "def model(theta, x):\n",
    "    # the parameters are stored as a vector of values, so unpack them\n",
    "    v0, D, x0 = theta\n",
    "    return (v0/np.pi) * np.arctan((x-x0)/D)"
   ]
  },
  {
   "cell_type": "markdown",
   "id": "7b505b5e",
   "metadata": {},
   "source": [
    "The spatial domain is $x \\in [−100,100]$ (in km), the fault slip rate is $v_{0} \\in [0,80]$ (in mm/year), the\n",
    "locking depth is $D \\in [0,80]$ (in km) and the fault location is $x_{0} \\in [−50,50]$ (in km)."
   ]
  },
  {
   "cell_type": "markdown",
   "id": "2f6fe00f",
   "metadata": {},
   "source": [
    "Your knowledgeable seismology friends tell you that a simple Gaussian\n",
    "error model is appropriate. This means that at a given location $x_{j}$, the observations satisfies\n",
    "$$\n",
    "d_{j} = v(x_{j}) + \\eta_j,\n",
    "$$\n",
    "where $\\eta_j  \\in \\mathcal{N}(0,1)$ and all $\\eta_j$ are independent and identically distributed (i.i.d.).\n",
    "\n",
    "You are tasked with finding model parameters $(v_{0}, D , x_{0})$ so that the output of your model\n",
    "is compatible with the data you have. You may want to follow the below steps to answer this\n",
    "question.\n"
   ]
  },
  {
   "cell_type": "markdown",
   "id": "2d9b0648",
   "metadata": {},
   "source": [
    "#### 1. Formulate the Bayesian posterior distribution for the model parameters $\\theta = [v_{0},D,x_{0}]$ given the above information.\n",
    "\n",
    "\n",
    "The prior is given by \n",
    "$$\n",
    "\\mathbb{P}(\\theta) = \\mathbb{P}(v_{0})\\mathbb{P}(D)\\mathbb{P}(x_{0}) = \\left\\{\n",
    "\\begin{array}{ll}\n",
    "      \\frac{1}{100\\cdot 80\\cdot 80} & -50 \\leq x_{0} \\leq 50 \\qquad \\text{and} \\qquad 0 \\leq D \\leq 80 \\qquad \\text{and} \\qquad 0 \\leq v_{0} \\leq 80 \\\\\n",
    "      0 & \\text{otherwise} \\\\\n",
    "\\end{array} \n",
    "\\right. \n",
    "$$\n",
    "since the uncertain parameters $v_{0}, D, x_{0}$ are independent.\n",
    "    \n",
    "The posterior is given by (from Bayes' rule):\n",
    "$$\n",
    "\\mathbb{P}(\\theta | d) = \\frac{\\mathbb{P}(d|\\theta) \\mathbb{P}(\\theta)}{\\mathbb{P}(d)} = \\frac{\\mathbb{P}(d|\\theta) \\mathbb{P}(\\theta)}{\\int_{\\mathbb{R}^{3}} \\mathbb{P}(d|\\theta)\\mathbb{P}(\\theta)\\text{d}\\theta} \\propto \\mathbb{P}(d|\\theta) \\mathbb{P}(\\theta) \n",
    "$$\n",
    "\n",
    "The log-posterior is given by \n",
    "$$\n",
    "\\log{\\mathbb{P}(\\theta | d)} \\propto \\log{\\left[\\mathbb{P}(d|\\theta) \\mathbb{P}(\\theta)\\right]} = \\log{\\mathbb{P}(d|\\theta)} + \\log{\\mathbb{P}(\\theta)}\n",
    "$$\n",
    "\n",
    "The log-prior is given by \n",
    "$$\n",
    "\\log{\\mathbb{P}(\\theta)} = \\left\\{\n",
    "\\begin{array}{ll}\n",
    "      \\log{\\frac{1}{100\\cdot 80\\cdot 80}} & -50 \\leq x_{0} \\leq 50 \\qquad \\text{and} \\qquad 0 \\leq D \\leq 80 \\qquad \\text{and} \\qquad 0 \\leq v_{0} \\leq 80 \\\\\n",
    "      -\\infty & \\text{otherwise} \\\\\n",
    "\\end{array} \n",
    "\\right. \n",
    "$$\n",
    "\n",
    "The likelihood function  updates our belief state by measuring the misfit between the data and model predictions with a specific parameter set. Since we assume Gaussian measurement noise wth zero mean, i.e. $\\eta_j  \\in \\mathcal{N}(\\mu= 0,\\sigma)$, the output $d$ is independent across observations, conditional on the parameters $\\theta$, i.e., $d_{1}$ and $d_{2}$ are independent given $\\theta_{1}$ and $\\theta_{2}$. Using the independence assumption, we can write the likelihood function as \n",
    "$$\n",
    "\\mathbb{P}(d|\\theta) =  \\prod_{i=1}^{n} \\frac{1}{\\sqrt{2\\pi \\sigma^2}} \\exp \\left( - \\frac{[d_{i} - v(\\theta)]^{2}}{2\\sigma^2} \\right) =  \\frac{1}{(2\\pi \\sigma^2)^{-n/2}} \\exp \\left( - \\frac{1}{2\\sigma^2} \\sum_{i=1}^{n} [d_{i} - v(\\theta )]^{2}\\right).\n",
    "$$\n",
    "Then, the log-likelihood is defined as \n",
    "$$\n",
    "\\log{\\mathbb{P}(d|\\theta)} = \\log{\\frac{1}{(2\\pi \\sigma^2)^{-n/2}} \\exp \\left( - \\frac{1}{2\\sigma^2} \\sum_{i=1}^{n} [d_{i} - v(\\theta)]^{2}\\right)} = \\log{\\frac{1}{(2\\pi \\sigma^2)^{-n/2}}} + \\log{\\exp \\left( - \\frac{1}{2\\sigma^2} \\sum_{i=1}^{n} [d_{i} - v(\\theta)]^{2}\\right)} \\\\\n",
    "= -\\frac{n}{2} \\log{2\\pi\\sigma^2} - \\frac{1}{2\\sigma^2} \\sum_{i=1}^{n} [d_{i} - v(\\theta) ]^{2}\n",
    "$$\n",
    "By setting $\\sigma = 1$, we are left with \n",
    "$$\n",
    "\\log{\\mathbb{P}(d|\\theta)} = -\\frac{n}{2} \\log{2\\pi} - \\frac{1}{2} \\sum_{i=1}^{n} [d_{i} - v(\\theta) ]^{2}\n",
    "$$"
   ]
  },
  {
   "cell_type": "code",
   "execution_count": 4,
   "id": "0d763da1",
   "metadata": {},
   "outputs": [],
   "source": [
    "def log_prior(theta):\n",
    "    # the parameters are stored as a vector of values, so unpack them\n",
    "    v0, D, x0 = theta\n",
    "    # we are using only uniform priors\n",
    "    if -50 <= x0 <= 50 and 0 <= D <= 80 and 0 <= v0 <= 80:\n",
    "        return np.log(1/(100*80*80))\n",
    "    else:\n",
    "        return -np.inf\n",
    "\n",
    "def log_likelihood(theta, x, v, sigma=10):\n",
    "    # the parameters are stored as a vector of values, so unpack them\n",
    "    v0, D, x0 = theta\n",
    "    # model evaluation for specific parameter sample 'theta'\n",
    "    model_eval = model(theta=theta, x=x)\n",
    "    # log-likelihood\n",
    "    lp = -0.5*(len(x)*np.log(2*np.pi*(sigma**2)) + (1/(sigma**2))*sum((v - model_eval)**2))\n",
    "    return lp\n",
    "\n",
    "def log_posterior(theta, x, v):\n",
    "    # evaluate prior\n",
    "    lp = log_prior(theta=theta)\n",
    "    if not np.isfinite(lp):\n",
    "        return -np.inf\n",
    "    return lp + log_likelihood(theta=theta, x=x, v=v)"
   ]
  },
  {
   "cell_type": "markdown",
   "id": "7cb8c080",
   "metadata": {},
   "source": [
    "#### 2. Draw samples from the posterior distribution by using a random walk Metropolis (RWM) MCMC sampler. How do you decide that you have run the sampler for “long enough”? How do you decide what an appropriate “stepsize” is for you RWM? How do you initialize your Markov chain? How many samples do you discard (i.e. burn in phase) because you think that early samples are part of the transient (generated before the chain reached stationarity)?\n"
   ]
  },
  {
   "cell_type": "code",
   "execution_count": 5,
   "id": "532ea997",
   "metadata": {},
   "outputs": [
    {
     "data": {
      "text/plain": [
       "(200, 2)"
      ]
     },
     "execution_count": 5,
     "metadata": {},
     "output_type": "execute_result"
    }
   ],
   "source": [
    "data = np.loadtxt(\"HW2Data.txt\", dtype='float', delimiter=',')\n",
    "np.shape(data)"
   ]
  },
  {
   "cell_type": "code",
   "execution_count": 6,
   "id": "37239be1",
   "metadata": {},
   "outputs": [
    {
     "data": {
      "image/png": "[encoded data removed]",
      "text/plain": [
       "<Figure size 800x300 with 1 Axes>"
      ]
     },
     "metadata": {},
     "output_type": "display_data"
    }
   ],
   "source": [
    "fig, ax = plt.subplots(figsize=(8, 3))\n",
    "_ = ax.scatter(data[:, 0], data[:, 1], c=\"k\", s=2)\n",
    "_ = ax.set_xlabel(\"$x$ [km]\")\n",
    "_ = ax.set_ylabel(\"$v(x)$ [mm/year]\")\n",
    "_ = ax.set_title(\"Observed Data\")"
   ]
  },
  {
   "cell_type": "markdown",
   "id": "95c23554",
   "metadata": {},
   "source": [
    "We initialize the walkers to start close to the log-likelihood maximum, which we find using the scipy.optimization package using the conjugate gradient algorithm."
   ]
  },
  {
   "cell_type": "code",
   "execution_count": 7,
   "id": "61956acc",
   "metadata": {},
   "outputs": [
    {
     "name": "stdout",
     "output_type": "stream",
     "text": [
      "     fun: 646.235603820205\n",
      "     jac: array([-7.62939453e-06,  7.62939453e-06,  0.00000000e+00])\n",
      " message: 'Optimization terminated successfully.'\n",
      "    nfev: 184\n",
      "     nit: 15\n",
      "    njev: 46\n",
      "  status: 0\n",
      " success: True\n",
      "       x: array([45.4815598 , 35.93942856, 18.34514999])\n"
     ]
    }
   ],
   "source": [
    "# we initialize the CG algorithm using the mean of each prior. \n",
    "max_log = opt.minimize(fun=lambda *args: -log_likelihood(*args),\n",
    "                      x0=[40, 40, 0],\n",
    "                      method=\"CG\",\n",
    "                      args=(data[:, 0], data[:, 1]))\n",
    "print(max_log)\n",
    "initial = max_log[\"x\"]"
   ]
  },
  {
   "cell_type": "code",
   "execution_count": 8,
   "id": "a3d7e251",
   "metadata": {},
   "outputs": [],
   "source": [
    "nwalkers = 5000\n",
    "nsamples = 2000\n",
    "ndim = len(initial)\n",
    "p0 = [np.array(initial) + 1e-4 * np.random.randn(ndim) for i in range(nwalkers)]"
   ]
  },
  {
   "cell_type": "markdown",
   "id": "c988f228",
   "metadata": {},
   "source": [
    "### MCMC\n",
    "MCMC is a procedure for generating a random walk in the parameter space that, over time, draws a representative set of samples from the distribution. Each point in a Markov chain $X(t_{i})$ depends only on the position of the previous step $X(t_{i−1})$. \n",
    "\n",
    "The MCMC Metropolis-Hastings method involves simultaneously evolving an ensemble of $K$ walkers $S = {X_{k}}$ where the proposal distribution for one walker $k$ is based on the current positions of the $K − 1$ walkers in the complementary ensemble $S_{[k]} = \\{X_{j} , \\forall j\\neq k\\}$.\n",
    "\n",
    "\n",
    "\n",
    "\n",
    "Here, we use a Python implemtation of the affine-invariant ensemble sampler for Markov chain Monte Carlo (MCMC) proposed by Goodman & Weare (2010) descibed in Algotihm 2."
   ]
  },
  {
   "cell_type": "markdown",
   "id": "ec16fe8c",
   "metadata": {},
   "source": [
    "![](alg.png)"
   ]
  },
  {
   "cell_type": "code",
   "execution_count": 9,
   "id": "1d0779a1",
   "metadata": {},
   "outputs": [],
   "source": [
    "def main(p0, nwalkers, niter, ndim, log_posterior, data, nburnin):\n",
    "    sampler = emcee.EnsembleSampler(nwalkers=nwalkers, ndim=ndim, log_prob_fn=log_posterior, args=data)\n",
    "\n",
    "    print(\"Running burn-in...\")\n",
    "    p0, _, _ = sampler.run_mcmc(initial_state=p0, nsteps=nburnin)\n",
    "    sampler.reset()\n",
    "\n",
    "    print(\"Running production...\")\n",
    "    pos, prob, state = sampler.run_mcmc(initial_state=p0, nsteps=niter)\n",
    "\n",
    "    return sampler, pos, prob, state"
   ]
  },
  {
   "cell_type": "code",
   "execution_count": null,
   "id": "935d1108",
   "metadata": {},
   "outputs": [
    {
     "name": "stdout",
     "output_type": "stream",
     "text": [
      "Running burn-in...\n"
     ]
    }
   ],
   "source": [
    "sampler, pos, prob, state = main(p0=p0, \n",
    "                                nwalkers=nwalkers,\n",
    "                                niter=nsamples,\n",
    "                                nburnin=300,\n",
    "                                ndim=ndim, \n",
    "                                log_posterior=log_posterior,\n",
    "                                data=(data[:, 0], data[:, 1]))"
   ]
  },
  {
   "cell_type": "markdown",
   "id": "6b6ad17b",
   "metadata": {},
   "source": [
    "#### 3. Formulate your answer in terms of expected values and standard deviations for the model parameters. You may also want to produce a triangle plot to show correlation (or lack thereof) of the three model parameters."
   ]
  },
  {
   "cell_type": "code",
   "execution_count": null,
   "id": "59ef1dbd",
   "metadata": {},
   "outputs": [],
   "source": [
    "fig = corner.corner(pos, labels=[\"$v_{0}$\", \"$D$\", \"$x_{0}$\"])\n",
    "\n",
    "\n",
    "# Extract the axes\n",
    "axes = np.array(fig.axes).reshape((ndim, ndim))\n",
    "\n",
    "for ii in range(ndim):\n",
    "    ax = axes[ii, ii]\n",
    "    ax.axvline(np.mean(sampler.chain[:, :, ii]), label=\"$\\mu$\", color=\"blue\")\n",
    "    ax.axvspan(np.mean(sampler.chain[:, :, ii]) - np.std(sampler.chain[:, :, ii]), \n",
    "               np.mean(sampler.chain[:, :, ii])  + np.std(sampler.chain[:, :, ii]), \n",
    "               alpha=0.5,\n",
    "               color=\"lightblue\", \n",
    "               label=\"$\\mu \\pm \\sigma$\")\n",
    "    ax.set_title(\"$\\mu = $\" + str(round(np.mean(sampler.chain[:, :, ii]), 2))\n",
    "                 +\"\\n $\\sigma = $\" + str(round(np.std(sampler.chain[:,:, ii]), 2)))\n",
    "    ax.legend()\n",
    "    \n",
    "# Loop over the histograms\n",
    "for yi in range(ndim):\n",
    "    for xi in range(ndim):\n",
    "        if xi < yi:\n",
    "            ax = axes[yi, xi]\n",
    "            ax.axvline(np.mean(sampler.chain[:, :, xi]), color=\"blue\", ls=\"--\")\n",
    "            ax.axhline(np.mean(sampler.chain[:, :, yi]), color=\"blue\", ls=\"--\")\n",
    "            ax.scatter(np.mean(sampler.chain[:, :, xi]), np.mean(sampler.chain[:, :, yi]), color=\"blue\", s=10)"
   ]
  },
  {
   "cell_type": "markdown",
   "id": "6d5da160",
   "metadata": {},
   "source": [
    "## Diagnostics for MCMC"
   ]
  },
  {
   "cell_type": "markdown",
   "id": "1e2e16a6",
   "metadata": {},
   "source": [
    "**1) Mixing of the Chain (Heuristic):**\n",
    "Good mixing occurs when more of the domain is explored. Bad mixing occurs when the step size is too large and most proposals are rejected, resulting in less space being explored. "
   ]
  },
  {
   "cell_type": "code",
   "execution_count": null,
   "id": "358acfa5",
   "metadata": {},
   "outputs": [],
   "source": [
    "fig, ax = plt.subplots(nrows=3, sharex=True)\n",
    "ax[0].plot(sampler.chain[::2000,:,0].T, '-', alpha=0.7)\n",
    "ax[1].plot(sampler.chain[::2000,:,1].T, '-', alpha=0.7)\n",
    "ax[2].plot(sampler.chain[::2000,:,2].T, '-', alpha=0.7)\n",
    "ax[0].set_ylabel(\"$v_{0}$\")\n",
    "ax[1].set_ylabel(\"$D$\")\n",
    "ax[2].set_ylabel(\"$x_{0}$\")\n",
    "ax[2].set_xlabel(\"Number of samples\")\n",
    "plt.tight_layout()"
   ]
  },
  {
   "cell_type": "markdown",
   "id": "ff3afb8b",
   "metadata": {},
   "source": [
    "**2) Autocorrelation:** Autocorrelation draws from the fundamental property of a Markov chain: *every Markov chain is memoryless*. We can compute the autocorrelation of states which are $\\ell$ iterations apart as\n",
    "$$\n",
    "R(\\ell) \\equiv \\frac{\\sum_{i=1}^{n=\\ell} (X_{i} -\\bar{X})(X_{i+\\ell} - \\bar{X})}{\\sum_{i=1}^{n} (X_{i} - \\bar{X})^2}\n",
    "$$\n",
    "where $\\bar{X}$ is the mean."
   ]
  },
  {
   "cell_type": "code",
   "execution_count": null,
   "id": "e369acff",
   "metadata": {},
   "outputs": [],
   "source": [
    "fig, ax = plt.subplots(ncols=3, sharey=True, figsize=(15, 5))\n",
    "for jj in range(3):\n",
    "    for ii in np.arange(0, nwalkers, 1000):\n",
    "        ax[jj].plot(emcee.autocorr.function_1d(sampler.chain[ii, :, jj]), label=\"Walker ID #\" + str(ii))\n",
    "        ax[jj].legend()\n",
    "        ax[jj].set_xlabel(\"$\\ell$\")\n",
    "ax[0].set_title(\"Autocorrelation of $v_{0}$\")\n",
    "ax[1].set_title(\"Autocorrelation of $D$\")\n",
    "ax[2].set_title(\"Autocorrelation of $x_{0}$\")\n",
    "ax[0].set_ylabel(\"$R(\\ell)$\")\n",
    "plt.tight_layout()"
   ]
  },
  {
   "cell_type": "markdown",
   "id": "0aed1259",
   "metadata": {},
   "source": [
    "**3) Integrated Autocorrelation (IAC) and Effective Sample Size (ESS):** In standard MC, the variance of the estimator is \n",
    "$$\n",
    "\\mathbb{V}\\text{ar} \\left( \\frac{1}{N} \\sum_{i=1}^{N} f(X^{(i)})\\right) = \\frac{\\mathbb{V}\\text{ar}(f(X))}{N}, \\qquad X^{(i)} \\sim i.i.d.\n",
    "$$\n",
    "In MCMC, samples are correlated, so we get additional covariance terms. If we assume that all $X_{i}$ and $X_{j}$ are samples from the target distribution, then we can approximate the variance of the MCMC estimator as \n",
    "$$\n",
    "\\mathbb{V}\\text{ar}\\left(\\bar{f}(X)^{\\text{MCMC}}\\right) = \\mathbb{V}\\text{ar} \\left( \\frac{1}{N} \\sum_{i=1}^{N} f(X^{(i)})\\right) = \\frac{\\mathbb{V}\\text{ar}\\left(f(X) \\right)}{N} \\cdot \\theta\n",
    "$$\n",
    "where the integrated autocorrelation (IAC) $\\theta$ is defined as \n",
    "$$\n",
    "\\theta = \\sum_{\\tau=-\\infty}^{\\infty} \\rho_{f}(\\tau)\n",
    "$$\n",
    "where $\\rho_{f}(\\tau)$ is the normalized autocorrelation function of the stochastic process that generated the chain for $f$. You can estimate $\\rho_{f}(\\tau)$ using a finite chain $\\{ f_{n}\\}_{n=1}^{N}$ as \n",
    "$$\n",
    "\\hat{\\rho}_{f}(\\tau) = \\hat{c}_{f}(\\tau)/\\hat{c}_{f}(0)\n",
    "$$\n",
    "where \n",
    "$$\n",
    "\\hat{c}_{f}(\\tau) = \\frac{1}{N-\\tau} \\sum_{n=1}^{N-\\tau} (f_{n} - \\mu_{f}) (f_{n+\\tau} - \\mu_{f})\n",
    "$$\n",
    "and \n",
    "$$\n",
    "\\mu_{f} = \\frac{1}{N} \\sum_{n=1}^{N} f_{n}.\n",
    "$$\n",
    "We stimate $\\theta$ using the estimator for $\\rho_{f}(\\tau)$ as \n",
    "$$\n",
    "\\theta(M) = 1 + 2 \\sum_{\\tau=1}^{M} \\hat{\\rho}_{f}(\\tau)\n",
    "$$\n",
    "The effective sample size of MCMC is then $\\frac{N}{\\theta}$ and we want $\\frac{N}{\\theta} \\ll 1$. Essentially, $\\theta$ is the number of steps that are needed fbefore the chain \"forgets\" where it started. Once we estimate $\\theta$ then we can estimate the number of samples that we need to generate to reduce the relative error on the target inegral. Typically, parallel chains longer than $50\\theta$ are often sufficient. \n",
    "\n",
    "The integrated autocorrelation time is an estimate of the number of steps needed in the chain in order to draw independent samples from the target density. A more efficient chain has a shorter autocorrelation time."
   ]
  },
  {
   "cell_type": "code",
   "execution_count": null,
   "id": "f34767a7",
   "metadata": {},
   "outputs": [],
   "source": [
    "theta = emcee.autocorr.integrated_time(x=sampler.flatchain)\n",
    "print(theta)"
   ]
  },
  {
   "cell_type": "code",
   "execution_count": null,
   "id": "d06d7981",
   "metadata": {},
   "outputs": [],
   "source": [
    "print(\"More than N=\" + str(int(theta*50)) + \" samples in each chain is sufficient.\")"
   ]
  },
  {
   "cell_type": "markdown",
   "id": "d4618432",
   "metadata": {},
   "source": [
    "## Plot uncertainty estimates "
   ]
  },
  {
   "cell_type": "code",
   "execution_count": null,
   "id": "2ed0eed1",
   "metadata": {},
   "outputs": [],
   "source": [
    "def sample_walkers(flattened_chain, x):\n",
    "    models = []\n",
    "    for theta in flattened_chain:\n",
    "        models.append(model(theta=theta, x=x))\n",
    "    spread = np.std(models, axis=0)\n",
    "    mean = np.mean(models, axis=0)\n",
    "    return mean, spread, models"
   ]
  },
  {
   "cell_type": "code",
   "execution_count": null,
   "id": "f6e1f74f",
   "metadata": {},
   "outputs": [],
   "source": [
    "mean, spread, models = sample_walkers(flattened_chain=sampler.flatchain, \n",
    "                                      x=data[:, 0])"
   ]
  },
  {
   "cell_type": "code",
   "execution_count": null,
   "id": "a5bc0c6d",
   "metadata": {},
   "outputs": [],
   "source": [
    "fig, ax = plt.subplots(figsize=(8, 3))\n",
    "_ = ax.scatter(data[:, 0], data[:, 1], s=2, color=\"b\", label=\"observations\")\n",
    "_ = ax.plot(np.sort(data[:, 0]), mean[np.argsort(data[:, 0])], linewidth=1, c=\"r\", label='$\\mu$')\n",
    "_ = ax.fill_between(np.sort(data[:, 0]), \n",
    "                    mean[np.argsort(data[:, 0])]-20*spread[np.argsort(data[:, 0])], \n",
    "                    mean[np.argsort(data[:, 0])]+20*spread[np.argsort(data[:, 0])],\n",
    "                    color='grey',\n",
    "                    alpha=0.3,\n",
    "                    label=r'$\\mu \\pm 20\\sigma$')\n",
    "_ = ax.fill_between(np.sort(data[:, 0]), \n",
    "                    mean[np.argsort(data[:, 0])]-10*spread[np.argsort(data[:, 0])], \n",
    "                    mean[np.argsort(data[:, 0])]+10*spread[np.argsort(data[:, 0])],\n",
    "                    color='green',\n",
    "                    alpha=0.4,\n",
    "                    label=r'$\\mu \\pm 10\\sigma$')\n",
    "_ = ax.fill_between(np.sort(data[:, 0]), \n",
    "                    mean[np.argsort(data[:, 0])]-1*spread[np.argsort(data[:, 0])], \n",
    "                    mean[np.argsort(data[:, 0])]+1*spread[np.argsort(data[:, 0])],\n",
    "                    color='orange',\n",
    "                    alpha=0.5,\n",
    "                    label=r'$\\mu \\pm 1\\sigma$')\n",
    "_ = ax.set_xlabel(\"$x$ [km]\")\n",
    "_ = ax.set_ylabel(\"$v(x)$ [mm/year]\")\n",
    "_ = ax.set_title(\"Observed Data\")\n",
    "_ = ax.legend()"
   ]
  },
  {
   "cell_type": "code",
   "execution_count": null,
   "id": "5ad8c98e",
   "metadata": {},
   "outputs": [],
   "source": []
  },
  {
   "cell_type": "code",
   "execution_count": null,
   "id": "0100f393",
   "metadata": {},
   "outputs": [],
   "source": []
  },
  {
   "cell_type": "code",
   "execution_count": null,
   "id": "bf2a584e",
   "metadata": {},
   "outputs": [],
   "source": []
  }
 ],
 "metadata": {
  "kernelspec": {
   "display_name": "PyCharm (3D_HD_SW2)",
   "language": "python",
   "name": "pycharm-bf70afba"
  },
  "language_info": {
   "codemirror_mode": {
    "name": "ipython",
    "version": 3
   },
   "file_extension": ".py",
   "mimetype": "text/x-python",
   "name": "python",
   "nbconvert_exporter": "python",
   "pygments_lexer": "ipython3",
   "version": "3.9.13"
  }
 },
 "nbformat": 4,
 "nbformat_minor": 5
}